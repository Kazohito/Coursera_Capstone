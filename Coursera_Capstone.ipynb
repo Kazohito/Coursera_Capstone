{
  "nbformat": 4,
  "nbformat_minor": 0,
  "metadata": {
    "colab": {
      "name": "Coursera Capstone.ipynb",
      "provenance": [],
      "authorship_tag": "ABX9TyN61LGeV8WhXTubWu5U72Lx",
      "include_colab_link": true
    },
    "kernelspec": {
      "name": "python3",
      "display_name": "Python 3"
    }
  },
  "cells": [
    {
      "cell_type": "markdown",
      "metadata": {
        "id": "view-in-github",
        "colab_type": "text"
      },
      "source": [
        "<a href=\"https://colab.research.google.com/github/Kazohito/Coursera_Capstone/blob/master/Coursera_Capstone.ipynb\" target=\"_parent\"><img src=\"https://colab.research.google.com/assets/colab-badge.svg\" alt=\"Open In Colab\"/></a>"
      ]
    },
    {
      "cell_type": "markdown",
      "metadata": {
        "id": "uRQL4-KLvzxn",
        "colab_type": "text"
      },
      "source": [
        "## **Coursera Capstone**"
      ]
    },
    {
      "cell_type": "markdown",
      "metadata": {
        "id": "VNrxIc_AwT2K",
        "colab_type": "text"
      },
      "source": [
        "This notebook will be mainly used for the capstone project which is part of the IBM Data Science program on Coursera. "
      ]
    },
    {
      "cell_type": "code",
      "metadata": {
        "id": "tiAKm7OYwfWg",
        "colab_type": "code",
        "colab": {}
      },
      "source": [
        "import pandas as pd\n",
        "import numpy as np"
      ],
      "execution_count": 0,
      "outputs": []
    },
    {
      "cell_type": "code",
      "metadata": {
        "id": "0U8CdUMaw3LN",
        "colab_type": "code",
        "colab": {
          "base_uri": "https://localhost:8080/",
          "height": 34
        },
        "outputId": "00c2562e-7ffa-416e-fee0-7d512ee25665"
      },
      "source": [
        "print('Hello Capstone Project Course!')"
      ],
      "execution_count": 9,
      "outputs": [
        {
          "output_type": "stream",
          "text": [
            "Hello Capstone Project Course!\n"
          ],
          "name": "stdout"
        }
      ]
    },
    {
      "cell_type": "code",
      "metadata": {
        "id": "4IwScqTPw9CP",
        "colab_type": "code",
        "colab": {}
      },
      "source": [
        ""
      ],
      "execution_count": 0,
      "outputs": []
    }
  ]
}